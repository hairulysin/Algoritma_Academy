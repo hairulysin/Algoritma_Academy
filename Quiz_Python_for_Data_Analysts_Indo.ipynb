{
 "cells": [
  {
   "cell_type": "markdown",
   "metadata": {},
   "source": [
    "## Hairul Yasin"
   ]
  },
  {
   "cell_type": "markdown",
   "metadata": {},
   "source": [
    "# Quiz: Python for Data Analysts\n",
    "\n",
    "Selamat Anda sudah menyelesaikan materi **Python for Data Analysts**! Kami akan melakukan penilaian berupa kuis untuk menguji materi yang sudah dipelajari. Pengerjaan Kuis diharapkan dapat dilakukan di dalam kelas, silakan hubungi tim pengajar kami apabila Anda melewatkan kesempatan untuk mengambilnya di kelas."
   ]
  },
  {
   "cell_type": "code",
   "execution_count": 176,
   "metadata": {},
   "outputs": [],
   "source": [
    "import pandas as pd"
   ]
  },
  {
   "cell_type": "markdown",
   "metadata": {},
   "source": [
    "## Data Pre-Processing"
   ]
  },
  {
   "cell_type": "markdown",
   "metadata": {},
   "source": [
    "Pada kuis ini kita akan menggunakan **Companies dataset**. Anda dapat menggunakan data dalam ekstensi csv file yang tersimpan dalam `companies.csv` file. Companies dataset merupakan sebagian contoh dari data CRM (customer relationship management) yang mengandung beberapa variable sebagai berikut :\n",
    "\n",
    "- `ID` : identifier unique dari nama cutomer\n",
    "- `Customer Name` : nama customer (nama company)\n",
    "- `Consulting Sales` : harga untuk service konsultasi\n",
    "- `Software Sales` : harga untuk service software\n",
    "- `Forecasted Growth` : presentase pertumbuhan company dalam kurun waktu tertentu\n",
    "- `Returns` : dana yang kembali (Returns) dalam kurun waktu tertentu\n",
    "- `Month` : bulan berdirinya company\n",
    "- `Day` : tanggal berdirinya company\n",
    "- `Year` : tahun berdirinya company\n",
    "- `Location` : lokasi company\n",
    "- `Account` : jenis customer company"
   ]
  },
  {
   "cell_type": "code",
   "execution_count": 177,
   "metadata": {
    "scrolled": true
   },
   "outputs": [
    {
     "data": {
      "text/html": [
       "<div>\n",
       "<style scoped>\n",
       "    .dataframe tbody tr th:only-of-type {\n",
       "        vertical-align: middle;\n",
       "    }\n",
       "\n",
       "    .dataframe tbody tr th {\n",
       "        vertical-align: top;\n",
       "    }\n",
       "\n",
       "    .dataframe thead th {\n",
       "        text-align: right;\n",
       "    }\n",
       "</style>\n",
       "<table border=\"1\" class=\"dataframe\">\n",
       "  <thead>\n",
       "    <tr style=\"text-align: right;\">\n",
       "      <th></th>\n",
       "      <th>Customer Name</th>\n",
       "      <th>Consulting Sales</th>\n",
       "      <th>Software Sales</th>\n",
       "      <th>Forecasted Growth</th>\n",
       "      <th>Returns</th>\n",
       "      <th>Month</th>\n",
       "      <th>Day</th>\n",
       "      <th>Year</th>\n",
       "      <th>Location</th>\n",
       "      <th>Account</th>\n",
       "    </tr>\n",
       "    <tr>\n",
       "      <th>ID</th>\n",
       "      <th></th>\n",
       "      <th></th>\n",
       "      <th></th>\n",
       "      <th></th>\n",
       "      <th></th>\n",
       "      <th></th>\n",
       "      <th></th>\n",
       "      <th></th>\n",
       "      <th></th>\n",
       "      <th></th>\n",
       "    </tr>\n",
       "  </thead>\n",
       "  <tbody>\n",
       "    <tr>\n",
       "      <th>30940</th>\n",
       "      <td>New Media Group</td>\n",
       "      <td>IDR7125000</td>\n",
       "      <td>IDR5500000</td>\n",
       "      <td>30.00%</td>\n",
       "      <td>IDR1,500,000</td>\n",
       "      <td>1</td>\n",
       "      <td>10</td>\n",
       "      <td>2017</td>\n",
       "      <td>Jakarta</td>\n",
       "      <td>Enterprise</td>\n",
       "    </tr>\n",
       "    <tr>\n",
       "      <th>82391</th>\n",
       "      <td>Li and Partners</td>\n",
       "      <td>IDR420000</td>\n",
       "      <td>IDR820000</td>\n",
       "      <td>10.00%</td>\n",
       "      <td>IDR400,000</td>\n",
       "      <td>6</td>\n",
       "      <td>15</td>\n",
       "      <td>2016</td>\n",
       "      <td>Jakarta</td>\n",
       "      <td>Startup</td>\n",
       "    </tr>\n",
       "    <tr>\n",
       "      <th>18374</th>\n",
       "      <td>PT. Kreasi Metrik Solusi</td>\n",
       "      <td>0</td>\n",
       "      <td>IDR550403</td>\n",
       "      <td>25.00%</td>\n",
       "      <td>0</td>\n",
       "      <td>3</td>\n",
       "      <td>29</td>\n",
       "      <td>2012</td>\n",
       "      <td>Surabaya</td>\n",
       "      <td>Enterprise</td>\n",
       "    </tr>\n",
       "    <tr>\n",
       "      <th>57531</th>\n",
       "      <td>PT. Algoritma Data Indonesia</td>\n",
       "      <td>IDR850000</td>\n",
       "      <td>IDR395500</td>\n",
       "      <td>4.00%</td>\n",
       "      <td>0</td>\n",
       "      <td>7</td>\n",
       "      <td>17</td>\n",
       "      <td>2017</td>\n",
       "      <td>Jakarta</td>\n",
       "      <td>Startup</td>\n",
       "    </tr>\n",
       "    <tr>\n",
       "      <th>19002</th>\n",
       "      <td>Palembang Konsultansi</td>\n",
       "      <td>IDR2115000</td>\n",
       "      <td>0</td>\n",
       "      <td>-15.00%</td>\n",
       "      <td>0</td>\n",
       "      <td>2</td>\n",
       "      <td>24</td>\n",
       "      <td>2018</td>\n",
       "      <td>Bandung</td>\n",
       "      <td>Startup</td>\n",
       "    </tr>\n",
       "  </tbody>\n",
       "</table>\n",
       "</div>"
      ],
      "text/plain": [
       "                      Customer Name Consulting Sales Software Sales  \\\n",
       "ID                                                                    \n",
       "30940               New Media Group       IDR7125000     IDR5500000   \n",
       "82391               Li and Partners        IDR420000      IDR820000   \n",
       "18374      PT. Kreasi Metrik Solusi                0      IDR550403   \n",
       "57531  PT. Algoritma Data Indonesia        IDR850000      IDR395500   \n",
       "19002         Palembang Konsultansi       IDR2115000              0   \n",
       "\n",
       "      Forecasted Growth       Returns  Month  Day  Year  Location     Account  \n",
       "ID                                                                             \n",
       "30940            30.00%  IDR1,500,000      1   10  2017   Jakarta  Enterprise  \n",
       "82391            10.00%    IDR400,000      6   15  2016   Jakarta     Startup  \n",
       "18374            25.00%             0      3   29  2012  Surabaya  Enterprise  \n",
       "57531             4.00%             0      7   17  2017   Jakarta     Startup  \n",
       "19002           -15.00%             0      2   24  2018   Bandung     Startup  "
      ]
     },
     "execution_count": 177,
     "metadata": {},
     "output_type": "execute_result"
    }
   ],
   "source": [
    "clients = pd.read_csv(\"data/companies.csv\", index_col=0)\n",
    "clients.head()"
   ]
  },
  {
   "cell_type": "markdown",
   "metadata": {},
   "source": [
    "Apabila Anda perhatikan, dataset `clients` memiliki format yang sedikit berbeda dengan dataset yang sudah kita gunakan pada materi. Kolom `Returns` memiliki karakter koma (`,`) sebagai pemisah satuan ribuan dan simbol mata uang (`IDR`) pada valuenya.\n",
    "\n",
    "Mari kita tinjau lebih jauh tipe data pada variabel `clients`:"
   ]
  },
  {
   "cell_type": "code",
   "execution_count": 178,
   "metadata": {},
   "outputs": [
    {
     "data": {
      "text/plain": [
       "Customer Name        object\n",
       "Consulting Sales     object\n",
       "Software Sales       object\n",
       "Forecasted Growth    object\n",
       "Returns              object\n",
       "Month                 int64\n",
       "Day                   int64\n",
       "Year                  int64\n",
       "Location             object\n",
       "Account              object\n",
       "dtype: object"
      ]
     },
     "execution_count": 178,
     "metadata": {},
     "output_type": "execute_result"
    }
   ],
   "source": [
    "clients.dtypes"
   ]
  },
  {
   "cell_type": "markdown",
   "metadata": {},
   "source": [
    "Pada hasil tersebut di atas, dapat diketahui bahwa beberapa variable tidak tersimpan pada format tipe data yang tepat. Dapatkah Anda mengubah tipe data beberapa variable tersebut menjadi bentuk tipe data yang tepat?"
   ]
  },
  {
   "cell_type": "code",
   "execution_count": 179,
   "metadata": {},
   "outputs": [],
   "source": [
    "## Your Code Below:\n",
    "clients['Month'] = clients['Month'].astype(str)\n",
    "clients['Day'] = clients['Day'].astype(str)\n",
    "clients['Year'] = clients['Year'].astype(str)"
   ]
  },
  {
   "cell_type": "code",
   "execution_count": 180,
   "metadata": {},
   "outputs": [
    {
     "data": {
      "text/plain": [
       "Customer Name        object\n",
       "Consulting Sales     object\n",
       "Software Sales       object\n",
       "Forecasted Growth    object\n",
       "Returns              object\n",
       "Month                object\n",
       "Day                  object\n",
       "Year                 object\n",
       "Location             object\n",
       "Account              object\n",
       "dtype: object"
      ]
     },
     "execution_count": 180,
     "metadata": {},
     "output_type": "execute_result"
    }
   ],
   "source": [
    "clients.dtypes"
   ]
  },
  {
   "cell_type": "markdown",
   "metadata": {},
   "source": [
    "Apabila Anda sudah mencoba mengubah tipe data menggunakan method `.astype()`, maka Anda akan mendapatkan pesan error ketika mengubah tipe data pada kolom `Consulting Sales` dan `Software Sales`. Hal ini dikarenakan komputasi dan pengubahan tipe data numerik pada python tidak dapat dilakukan ketika terdapat karakter tertentu dalam data. Oleh karena itu, perlu dilakukan penghapusan karakter `IDR` yang terdapat pada kedua kolom tersebut. Penghapusan karakter dapat menggunakan built-in method pada `pandas` yaitu `str.replace()`. Berikut adalah contoh penggunaannya:"
   ]
  },
  {
   "cell_type": "code",
   "execution_count": 181,
   "metadata": {
    "scrolled": true
   },
   "outputs": [
    {
     "data": {
      "text/plain": [
       "ID\n",
       "30940    7125000\n",
       "82391     420000\n",
       "18374          0\n",
       "57531     850000\n",
       "19002    2115000\n",
       "31142     960000\n",
       "Name: Consulting Sales, dtype: object"
      ]
     },
     "execution_count": 181,
     "metadata": {},
     "output_type": "execute_result"
    }
   ],
   "source": [
    "clients['Consulting Sales'].str.replace('IDR','')"
   ]
  },
  {
   "cell_type": "markdown",
   "metadata": {},
   "source": [
    "Untuk mengaplikasikannya pada beberapa kolom dapat menggunakan method `apply` dengan `lambda` sebagai berikut :"
   ]
  },
  {
   "cell_type": "code",
   "execution_count": 182,
   "metadata": {},
   "outputs": [],
   "source": [
    "clients[['Consulting Sales','Software Sales','Returns']] =\\\n",
    "clients[['Consulting Sales','Software Sales','Returns']].apply(lambda x: x.str.replace('IDR',''))"
   ]
  },
  {
   "cell_type": "code",
   "execution_count": 183,
   "metadata": {},
   "outputs": [],
   "source": [
    "clients['Consulting Sales'] = clients['Consulting Sales'].astype(float)\n",
    "clients['Software Sales'] = clients['Software Sales'].astype(float)\n",
    "clients['Month'] = clients['Month'].astype(str)\n",
    "clients['Day'] = clients['Day'].astype(str)\n",
    "clients['Year'] = clients['Year'].astype(str)\n"
   ]
  },
  {
   "cell_type": "markdown",
   "metadata": {},
   "source": [
    "Lengkapi kode program di bawah ini untuk menghilangkan tanda koma (`,`) pada kolom `Returns`! \\\n",
    "Contoh : `clients['Consulting Sales'] = clients['Consulting Sales'].str.replace('IDR','')` digunakan untuk menghilangkan `IDR` pada kolom `Consulting Sales`"
   ]
  },
  {
   "cell_type": "code",
   "execution_count": 184,
   "metadata": {},
   "outputs": [],
   "source": [
    "## Fill in the blank (___)\n",
    "\n",
    "clients['Returns'] = clients['Returns'].str.replace(',',' ')"
   ]
  },
  {
   "cell_type": "code",
   "execution_count": 185,
   "metadata": {},
   "outputs": [
    {
     "data": {
      "text/html": [
       "<div>\n",
       "<style scoped>\n",
       "    .dataframe tbody tr th:only-of-type {\n",
       "        vertical-align: middle;\n",
       "    }\n",
       "\n",
       "    .dataframe tbody tr th {\n",
       "        vertical-align: top;\n",
       "    }\n",
       "\n",
       "    .dataframe thead th {\n",
       "        text-align: right;\n",
       "    }\n",
       "</style>\n",
       "<table border=\"1\" class=\"dataframe\">\n",
       "  <thead>\n",
       "    <tr style=\"text-align: right;\">\n",
       "      <th></th>\n",
       "      <th>Customer Name</th>\n",
       "      <th>Consulting Sales</th>\n",
       "      <th>Software Sales</th>\n",
       "      <th>Forecasted Growth</th>\n",
       "      <th>Returns</th>\n",
       "      <th>Month</th>\n",
       "      <th>Day</th>\n",
       "      <th>Year</th>\n",
       "      <th>Location</th>\n",
       "      <th>Account</th>\n",
       "    </tr>\n",
       "    <tr>\n",
       "      <th>ID</th>\n",
       "      <th></th>\n",
       "      <th></th>\n",
       "      <th></th>\n",
       "      <th></th>\n",
       "      <th></th>\n",
       "      <th></th>\n",
       "      <th></th>\n",
       "      <th></th>\n",
       "      <th></th>\n",
       "      <th></th>\n",
       "    </tr>\n",
       "  </thead>\n",
       "  <tbody>\n",
       "    <tr>\n",
       "      <th>30940</th>\n",
       "      <td>New Media Group</td>\n",
       "      <td>7125000.0</td>\n",
       "      <td>5500000.0</td>\n",
       "      <td>30.00%</td>\n",
       "      <td>1 500 000</td>\n",
       "      <td>1</td>\n",
       "      <td>10</td>\n",
       "      <td>2017</td>\n",
       "      <td>Jakarta</td>\n",
       "      <td>Enterprise</td>\n",
       "    </tr>\n",
       "    <tr>\n",
       "      <th>82391</th>\n",
       "      <td>Li and Partners</td>\n",
       "      <td>420000.0</td>\n",
       "      <td>820000.0</td>\n",
       "      <td>10.00%</td>\n",
       "      <td>400 000</td>\n",
       "      <td>6</td>\n",
       "      <td>15</td>\n",
       "      <td>2016</td>\n",
       "      <td>Jakarta</td>\n",
       "      <td>Startup</td>\n",
       "    </tr>\n",
       "    <tr>\n",
       "      <th>18374</th>\n",
       "      <td>PT. Kreasi Metrik Solusi</td>\n",
       "      <td>0.0</td>\n",
       "      <td>550403.0</td>\n",
       "      <td>25.00%</td>\n",
       "      <td>0</td>\n",
       "      <td>3</td>\n",
       "      <td>29</td>\n",
       "      <td>2012</td>\n",
       "      <td>Surabaya</td>\n",
       "      <td>Enterprise</td>\n",
       "    </tr>\n",
       "    <tr>\n",
       "      <th>57531</th>\n",
       "      <td>PT. Algoritma Data Indonesia</td>\n",
       "      <td>850000.0</td>\n",
       "      <td>395500.0</td>\n",
       "      <td>4.00%</td>\n",
       "      <td>0</td>\n",
       "      <td>7</td>\n",
       "      <td>17</td>\n",
       "      <td>2017</td>\n",
       "      <td>Jakarta</td>\n",
       "      <td>Startup</td>\n",
       "    </tr>\n",
       "    <tr>\n",
       "      <th>19002</th>\n",
       "      <td>Palembang Konsultansi</td>\n",
       "      <td>2115000.0</td>\n",
       "      <td>0.0</td>\n",
       "      <td>-15.00%</td>\n",
       "      <td>0</td>\n",
       "      <td>2</td>\n",
       "      <td>24</td>\n",
       "      <td>2018</td>\n",
       "      <td>Bandung</td>\n",
       "      <td>Startup</td>\n",
       "    </tr>\n",
       "  </tbody>\n",
       "</table>\n",
       "</div>"
      ],
      "text/plain": [
       "                      Customer Name  Consulting Sales  Software Sales  \\\n",
       "ID                                                                      \n",
       "30940               New Media Group         7125000.0       5500000.0   \n",
       "82391               Li and Partners          420000.0        820000.0   \n",
       "18374      PT. Kreasi Metrik Solusi               0.0        550403.0   \n",
       "57531  PT. Algoritma Data Indonesia          850000.0        395500.0   \n",
       "19002         Palembang Konsultansi         2115000.0             0.0   \n",
       "\n",
       "      Forecasted Growth    Returns Month Day  Year  Location     Account  \n",
       "ID                                                                        \n",
       "30940            30.00%  1 500 000     1  10  2017   Jakarta  Enterprise  \n",
       "82391            10.00%    400 000     6  15  2016   Jakarta     Startup  \n",
       "18374            25.00%          0     3  29  2012  Surabaya  Enterprise  \n",
       "57531             4.00%          0     7  17  2017   Jakarta     Startup  \n",
       "19002           -15.00%          0     2  24  2018   Bandung     Startup  "
      ]
     },
     "execution_count": 185,
     "metadata": {},
     "output_type": "execute_result"
    }
   ],
   "source": [
    "clients.head()"
   ]
  },
  {
   "cell_type": "markdown",
   "metadata": {},
   "source": [
    "---"
   ]
  },
  {
   "cell_type": "markdown",
   "metadata": {},
   "source": [
    "## Data Analisis\n",
    "\n",
    "Sebagai seorang Data Analyst, Anda diminta untuk mendapatkan total penjualan secara keseluruhan dengan mengakumulasikan nilai Consulting Sales dan Software Sales dari setiap perusahaan. Buatlah kolom baru bernama `Total Sales` yang menyimpan total dari kedua nilai tersebut. \n",
    "\n",
    "---\n",
    "1. Berapa total (`sum`) keseluruhan dari `Total Sales`? Tips: Gunakan method `.sum()` pada kolom untuk mengakumulasi nilai totalnya!\n",
    "    - [ ] 11,470,000\n",
    "    - [ ] 19,238,903\n",
    "    - [ ]  7,768,903\n",
    "---    "
   ]
  },
  {
   "cell_type": "code",
   "execution_count": 200,
   "metadata": {},
   "outputs": [
    {
     "data": {
      "text/html": [
       "<div>\n",
       "<style scoped>\n",
       "    .dataframe tbody tr th:only-of-type {\n",
       "        vertical-align: middle;\n",
       "    }\n",
       "\n",
       "    .dataframe tbody tr th {\n",
       "        vertical-align: top;\n",
       "    }\n",
       "\n",
       "    .dataframe thead th {\n",
       "        text-align: right;\n",
       "    }\n",
       "</style>\n",
       "<table border=\"1\" class=\"dataframe\">\n",
       "  <thead>\n",
       "    <tr style=\"text-align: right;\">\n",
       "      <th></th>\n",
       "      <th>Customer Name</th>\n",
       "      <th>Consulting Sales</th>\n",
       "      <th>Software Sales</th>\n",
       "      <th>Forecasted Growth</th>\n",
       "      <th>Returns</th>\n",
       "      <th>Month</th>\n",
       "      <th>Day</th>\n",
       "      <th>Year</th>\n",
       "      <th>Location</th>\n",
       "      <th>Account</th>\n",
       "      <th>Total Sales</th>\n",
       "    </tr>\n",
       "    <tr>\n",
       "      <th>ID</th>\n",
       "      <th></th>\n",
       "      <th></th>\n",
       "      <th></th>\n",
       "      <th></th>\n",
       "      <th></th>\n",
       "      <th></th>\n",
       "      <th></th>\n",
       "      <th></th>\n",
       "      <th></th>\n",
       "      <th></th>\n",
       "      <th></th>\n",
       "    </tr>\n",
       "  </thead>\n",
       "  <tbody>\n",
       "    <tr>\n",
       "      <th>30940</th>\n",
       "      <td>New Media Group</td>\n",
       "      <td>7125000.0</td>\n",
       "      <td>5500000.0</td>\n",
       "      <td>30.00%</td>\n",
       "      <td>1 500 000</td>\n",
       "      <td>1</td>\n",
       "      <td>10</td>\n",
       "      <td>2017</td>\n",
       "      <td>Jakarta</td>\n",
       "      <td>Enterprise</td>\n",
       "      <td>12625000.0</td>\n",
       "    </tr>\n",
       "    <tr>\n",
       "      <th>82391</th>\n",
       "      <td>Li and Partners</td>\n",
       "      <td>420000.0</td>\n",
       "      <td>820000.0</td>\n",
       "      <td>10.00%</td>\n",
       "      <td>400 000</td>\n",
       "      <td>6</td>\n",
       "      <td>15</td>\n",
       "      <td>2016</td>\n",
       "      <td>Jakarta</td>\n",
       "      <td>Startup</td>\n",
       "      <td>1240000.0</td>\n",
       "    </tr>\n",
       "    <tr>\n",
       "      <th>18374</th>\n",
       "      <td>PT. Kreasi Metrik Solusi</td>\n",
       "      <td>0.0</td>\n",
       "      <td>550403.0</td>\n",
       "      <td>25.00%</td>\n",
       "      <td>0</td>\n",
       "      <td>3</td>\n",
       "      <td>29</td>\n",
       "      <td>2012</td>\n",
       "      <td>Surabaya</td>\n",
       "      <td>Enterprise</td>\n",
       "      <td>550403.0</td>\n",
       "    </tr>\n",
       "    <tr>\n",
       "      <th>57531</th>\n",
       "      <td>PT. Algoritma Data Indonesia</td>\n",
       "      <td>850000.0</td>\n",
       "      <td>395500.0</td>\n",
       "      <td>4.00%</td>\n",
       "      <td>0</td>\n",
       "      <td>7</td>\n",
       "      <td>17</td>\n",
       "      <td>2017</td>\n",
       "      <td>Jakarta</td>\n",
       "      <td>Startup</td>\n",
       "      <td>1245500.0</td>\n",
       "    </tr>\n",
       "    <tr>\n",
       "      <th>19002</th>\n",
       "      <td>Palembang Konsultansi</td>\n",
       "      <td>2115000.0</td>\n",
       "      <td>0.0</td>\n",
       "      <td>-15.00%</td>\n",
       "      <td>0</td>\n",
       "      <td>2</td>\n",
       "      <td>24</td>\n",
       "      <td>2018</td>\n",
       "      <td>Bandung</td>\n",
       "      <td>Startup</td>\n",
       "      <td>2115000.0</td>\n",
       "    </tr>\n",
       "  </tbody>\n",
       "</table>\n",
       "</div>"
      ],
      "text/plain": [
       "                      Customer Name  Consulting Sales  Software Sales  \\\n",
       "ID                                                                      \n",
       "30940               New Media Group         7125000.0       5500000.0   \n",
       "82391               Li and Partners          420000.0        820000.0   \n",
       "18374      PT. Kreasi Metrik Solusi               0.0        550403.0   \n",
       "57531  PT. Algoritma Data Indonesia          850000.0        395500.0   \n",
       "19002         Palembang Konsultansi         2115000.0             0.0   \n",
       "\n",
       "      Forecasted Growth    Returns Month Day  Year  Location     Account  \\\n",
       "ID                                                                         \n",
       "30940            30.00%  1 500 000     1  10  2017   Jakarta  Enterprise   \n",
       "82391            10.00%    400 000     6  15  2016   Jakarta     Startup   \n",
       "18374            25.00%          0     3  29  2012  Surabaya  Enterprise   \n",
       "57531             4.00%          0     7  17  2017   Jakarta     Startup   \n",
       "19002           -15.00%          0     2  24  2018   Bandung     Startup   \n",
       "\n",
       "       Total Sales  \n",
       "ID                  \n",
       "30940   12625000.0  \n",
       "82391    1240000.0  \n",
       "18374     550403.0  \n",
       "57531    1245500.0  \n",
       "19002    2115000.0  "
      ]
     },
     "execution_count": 200,
     "metadata": {},
     "output_type": "execute_result"
    }
   ],
   "source": [
    "clients.head()"
   ]
  },
  {
   "cell_type": "code",
   "execution_count": 201,
   "metadata": {},
   "outputs": [
    {
     "data": {
      "text/plain": [
       "19238903.0"
      ]
     },
     "execution_count": 201,
     "metadata": {},
     "output_type": "execute_result"
    }
   ],
   "source": [
    "## Your Code Below:\n",
    "clients['Total Sales'] = clients['Consulting Sales'] + clients['Software Sales']\n",
    "total_sales = clients['Total Sales'].sum()\n",
    "total_sales"
   ]
  },
  {
   "cell_type": "markdown",
   "metadata": {},
   "source": [
    "Berdasarkan total penjualan yang diperoleh setiap tahunnya, Anda sedang berokus untuk menganalisa penjualan dari masing-masing client pada tahun 2017 silam. Oleh karena itu, saat ini Anda akan fokus pada perusahaan yang menjadi client pada tahun 2017. Lakukanlah subseting untuk mendapatkan informasi data penjualan yang terjadi pada tahun 2017. Gunakanlah metode subseting yang sudah Anda pelajari.\n",
    "\n",
    "---\n",
    "2. Perusahaan manakah yang mendapatkan `Total Sales` terbesar di tahun 2017? \n",
    "    \n",
    "    - [ ] New Media Group\n",
    "    - [ ] PT. Algoritma Data Indonesia\n",
    "    - [ ] Palembang Konsultansi\n",
    "---"
   ]
  },
  {
   "cell_type": "code",
   "execution_count": 202,
   "metadata": {},
   "outputs": [],
   "source": [
    "## Your Code Below:\n",
    "sales_2017 = clients[(clients['Year'] == 2017)][['Customer Name', 'Total Sales']]\n"
   ]
  },
  {
   "cell_type": "code",
   "execution_count": 205,
   "metadata": {},
   "outputs": [
    {
     "data": {
      "text/html": [
       "<div>\n",
       "<style scoped>\n",
       "    .dataframe tbody tr th:only-of-type {\n",
       "        vertical-align: middle;\n",
       "    }\n",
       "\n",
       "    .dataframe tbody tr th {\n",
       "        vertical-align: top;\n",
       "    }\n",
       "\n",
       "    .dataframe thead th {\n",
       "        text-align: right;\n",
       "    }\n",
       "</style>\n",
       "<table border=\"1\" class=\"dataframe\">\n",
       "  <thead>\n",
       "    <tr style=\"text-align: right;\">\n",
       "      <th></th>\n",
       "      <th>Customer Name</th>\n",
       "      <th>Total Sales</th>\n",
       "    </tr>\n",
       "    <tr>\n",
       "      <th>ID</th>\n",
       "      <th></th>\n",
       "      <th></th>\n",
       "    </tr>\n",
       "  </thead>\n",
       "  <tbody>\n",
       "  </tbody>\n",
       "</table>\n",
       "</div>"
      ],
      "text/plain": [
       "Empty DataFrame\n",
       "Columns: [Customer Name, Total Sales]\n",
       "Index: []"
      ]
     },
     "execution_count": 205,
     "metadata": {},
     "output_type": "execute_result"
    }
   ],
   "source": [
    "sales_2017.head()`"
   ]
  },
  {
   "cell_type": "markdown",
   "metadata": {},
   "source": [
    "kenapa outputnya tidak keluar?"
   ]
  },
  {
   "cell_type": "code",
   "execution_count": 216,
   "metadata": {},
   "outputs": [
    {
     "data": {
      "text/plain": [
       "(6, 11)"
      ]
     },
     "execution_count": 216,
     "metadata": {},
     "output_type": "execute_result"
    }
   ],
   "source": [
    "clients.shape"
   ]
  },
  {
   "cell_type": "code",
   "execution_count": 218,
   "metadata": {},
   "outputs": [
    {
     "data": {
      "text/html": [
       "<div>\n",
       "<style scoped>\n",
       "    .dataframe tbody tr th:only-of-type {\n",
       "        vertical-align: middle;\n",
       "    }\n",
       "\n",
       "    .dataframe tbody tr th {\n",
       "        vertical-align: top;\n",
       "    }\n",
       "\n",
       "    .dataframe thead th {\n",
       "        text-align: right;\n",
       "    }\n",
       "</style>\n",
       "<table border=\"1\" class=\"dataframe\">\n",
       "  <thead>\n",
       "    <tr style=\"text-align: right;\">\n",
       "      <th></th>\n",
       "      <th>Customer Name</th>\n",
       "      <th>Consulting Sales</th>\n",
       "      <th>Software Sales</th>\n",
       "      <th>Forecasted Growth</th>\n",
       "      <th>Returns</th>\n",
       "      <th>Month</th>\n",
       "      <th>Day</th>\n",
       "      <th>Year</th>\n",
       "      <th>Location</th>\n",
       "      <th>Account</th>\n",
       "      <th>Total Sales</th>\n",
       "    </tr>\n",
       "    <tr>\n",
       "      <th>ID</th>\n",
       "      <th></th>\n",
       "      <th></th>\n",
       "      <th></th>\n",
       "      <th></th>\n",
       "      <th></th>\n",
       "      <th></th>\n",
       "      <th></th>\n",
       "      <th></th>\n",
       "      <th></th>\n",
       "      <th></th>\n",
       "      <th></th>\n",
       "    </tr>\n",
       "  </thead>\n",
       "  <tbody>\n",
       "    <tr>\n",
       "      <th>30940</th>\n",
       "      <td>New Media Group</td>\n",
       "      <td>7125000.0</td>\n",
       "      <td>5500000.0</td>\n",
       "      <td>30.00%</td>\n",
       "      <td>1 500 000</td>\n",
       "      <td>1</td>\n",
       "      <td>10</td>\n",
       "      <td>2017</td>\n",
       "      <td>Jakarta</td>\n",
       "      <td>Enterprise</td>\n",
       "      <td>12625000.0</td>\n",
       "    </tr>\n",
       "    <tr>\n",
       "      <th>82391</th>\n",
       "      <td>Li and Partners</td>\n",
       "      <td>420000.0</td>\n",
       "      <td>820000.0</td>\n",
       "      <td>10.00%</td>\n",
       "      <td>400 000</td>\n",
       "      <td>6</td>\n",
       "      <td>15</td>\n",
       "      <td>2016</td>\n",
       "      <td>Jakarta</td>\n",
       "      <td>Startup</td>\n",
       "      <td>1240000.0</td>\n",
       "    </tr>\n",
       "    <tr>\n",
       "      <th>18374</th>\n",
       "      <td>PT. Kreasi Metrik Solusi</td>\n",
       "      <td>0.0</td>\n",
       "      <td>550403.0</td>\n",
       "      <td>25.00%</td>\n",
       "      <td>0</td>\n",
       "      <td>3</td>\n",
       "      <td>29</td>\n",
       "      <td>2012</td>\n",
       "      <td>Surabaya</td>\n",
       "      <td>Enterprise</td>\n",
       "      <td>550403.0</td>\n",
       "    </tr>\n",
       "    <tr>\n",
       "      <th>57531</th>\n",
       "      <td>PT. Algoritma Data Indonesia</td>\n",
       "      <td>850000.0</td>\n",
       "      <td>395500.0</td>\n",
       "      <td>4.00%</td>\n",
       "      <td>0</td>\n",
       "      <td>7</td>\n",
       "      <td>17</td>\n",
       "      <td>2017</td>\n",
       "      <td>Jakarta</td>\n",
       "      <td>Startup</td>\n",
       "      <td>1245500.0</td>\n",
       "    </tr>\n",
       "    <tr>\n",
       "      <th>19002</th>\n",
       "      <td>Palembang Konsultansi</td>\n",
       "      <td>2115000.0</td>\n",
       "      <td>0.0</td>\n",
       "      <td>-15.00%</td>\n",
       "      <td>0</td>\n",
       "      <td>2</td>\n",
       "      <td>24</td>\n",
       "      <td>2018</td>\n",
       "      <td>Bandung</td>\n",
       "      <td>Startup</td>\n",
       "      <td>2115000.0</td>\n",
       "    </tr>\n",
       "    <tr>\n",
       "      <th>31142</th>\n",
       "      <td>PT. Surya Citra Manajemen</td>\n",
       "      <td>960000.0</td>\n",
       "      <td>503000.0</td>\n",
       "      <td>19.00%</td>\n",
       "      <td>0</td>\n",
       "      <td>1</td>\n",
       "      <td>19</td>\n",
       "      <td>2019</td>\n",
       "      <td>Jakarta</td>\n",
       "      <td>Enterprise</td>\n",
       "      <td>1463000.0</td>\n",
       "    </tr>\n",
       "  </tbody>\n",
       "</table>\n",
       "</div>"
      ],
      "text/plain": [
       "                      Customer Name  Consulting Sales  Software Sales  \\\n",
       "ID                                                                      \n",
       "30940               New Media Group         7125000.0       5500000.0   \n",
       "82391               Li and Partners          420000.0        820000.0   \n",
       "18374      PT. Kreasi Metrik Solusi               0.0        550403.0   \n",
       "57531  PT. Algoritma Data Indonesia          850000.0        395500.0   \n",
       "19002         Palembang Konsultansi         2115000.0             0.0   \n",
       "31142     PT. Surya Citra Manajemen          960000.0        503000.0   \n",
       "\n",
       "      Forecasted Growth    Returns Month Day  Year  Location     Account  \\\n",
       "ID                                                                         \n",
       "30940            30.00%  1 500 000     1  10  2017   Jakarta  Enterprise   \n",
       "82391            10.00%    400 000     6  15  2016   Jakarta     Startup   \n",
       "18374            25.00%          0     3  29  2012  Surabaya  Enterprise   \n",
       "57531             4.00%          0     7  17  2017   Jakarta     Startup   \n",
       "19002           -15.00%          0     2  24  2018   Bandung     Startup   \n",
       "31142            19.00%          0     1  19  2019   Jakarta  Enterprise   \n",
       "\n",
       "       Total Sales  \n",
       "ID                  \n",
       "30940   12625000.0  \n",
       "82391    1240000.0  \n",
       "18374     550403.0  \n",
       "57531    1245500.0  \n",
       "19002    2115000.0  \n",
       "31142    1463000.0  "
      ]
     },
     "execution_count": 218,
     "metadata": {},
     "output_type": "execute_result"
    }
   ],
   "source": [
    "# karena cuman 11 baris jadi saya akan melihatnya secara langsung\n",
    "clients.head(11)"
   ]
  },
  {
   "cell_type": "markdown",
   "metadata": {},
   "source": [
    "Setelah itu, kita akan kembali fokus menggunakan seluruh data yang ada. Menggunakan seluruh data yang ada, ternyata perusahaan ingin melakukan *campaign* terhadap perusahaan yang memiliki nilai penjualan lebih dari 1,500,000 IDR. Silahkan gunakan subsetting kembali untuk mengetahui perusahaan yang memiliki penjualan lebih dari 1,500,000 IDR. Ternyata ada dua perusahaan yang nilai penjualannya melebihi 1,500,000 IDR pada data tersebut.\n",
    "\n",
    "---\n",
    "3.  Perusahaan mana saja yang memiliki penjualan lebih dari 1,500,000 IDR?\n",
    "\n",
    "    - [ ] Palembang Konsultansi & PT. Surya Citra Manajemen\n",
    "    - [ ] PT. Surya Citra Manajemen & New Media Group\n",
    "    - [ ] Palembang Konsultansi & New Media Group\n",
    "---    "
   ]
  },
  {
   "cell_type": "code",
   "execution_count": 210,
   "metadata": {},
   "outputs": [
    {
     "data": {
      "text/plain": [
       "ID\n",
       "30940          New Media Group\n",
       "19002    Palembang Konsultansi\n",
       "Name: Customer Name, dtype: object"
      ]
     },
     "execution_count": 210,
     "metadata": {},
     "output_type": "execute_result"
    }
   ],
   "source": [
    "## Your Code Below:\n",
    "high_sales = clients[clients['Total Sales'] > 1500000]['Customer Name']\n",
    "high_sales"
   ]
  },
  {
   "cell_type": "markdown",
   "metadata": {},
   "source": [
    "Sebagai seorang Data Anlayst, Anda diminta untuk menganalisa rata-rata dari `Total Sales` untuk seluruh perusahaan yang ada pada data. Dalam menganalisa data untuk mendapatkan suatu pusat data, ada beberapa pengukuran yang dapat digunakan. Diantarana yaitu mean, median, dan modus. Karena yang akan dianalisa berupa nilai numerik maka terkadang nilai numerik dapat terpengaruh oleh suatu nilai-nilai ekstrim atau outlier. Oleh karena itu, penggunaan **median** seringkali lebih relevan dibandingkan menggunakan nilai mean, karena mean lebih mudah terpengaruh terhadap nilai outlier. \n",
    "\n",
    "---\n",
    "4. Berdasarkan analisa diatas, berapakah nilai pusat data dari `Total Sales`?\n",
    "    \n",
    "    - [ ] 1,354,250\n",
    "    - [ ] 1,515,875\n",
    "    - [ ] 3,737,700\n",
    "---"
   ]
  },
  {
   "cell_type": "code",
   "execution_count": 211,
   "metadata": {},
   "outputs": [
    {
     "data": {
      "text/plain": [
       "1354250.0"
      ]
     },
     "execution_count": 211,
     "metadata": {},
     "output_type": "execute_result"
    }
   ],
   "source": [
    "## Your Code Below:\n",
    "clients['Total Sales'].median()"
   ]
  },
  {
   "cell_type": "markdown",
   "metadata": {},
   "source": [
    "Anda saat ini akan fokus untuk menganalisis perusahaan PT. Algoritma Data Indonesia. Menggunakan metode subsetting yang sudah Anda pelajari, jawablah pertanyaan dibawah ini.\n",
    "\n",
    "---\n",
    "5. Manakah metode subsetting yang paling sesuai untuk melakukan subsetting secara eksplisit pada ID perusahaan 57531 pada data `clients`?\n",
    "\n",
    "    - [ ] `clients.loc[57531, :]`\n",
    "    - [ ] `clients.iloc[57531, : ]`\n",
    "    - [ ] `clients[57531, : ]` \n",
    "    \n",
    "---"
   ]
  },
  {
   "cell_type": "markdown",
   "metadata": {},
   "source": [
    "karena kita ingin melakaukan sub setting pada \"ID perusahaan\" maka cara yang paling tepat yaitu menggunakan methode .loc"
   ]
  },
  {
   "cell_type": "markdown",
   "metadata": {},
   "source": [
    "Terakhir, Anda diminta untuk melakukan analisa pada client yang berlokasi di Jakarta dan termasuk kedalam akun Enterprise. Untuk melakukan subsetting, silahkan lengkapi syntax berikut dan jawablah pertanyaan dibawah ini.\n",
    "\n",
    "```\n",
    "clients[(clients.Location == \"Jakarta\") & (clients.Account == \"Enterprise\")]\n",
    "```\n",
    "\n",
    "---\n",
    "6. Berdasarkan syntax yang Anda lengkapi diatas, manakah pilihan syntax dibawah ini yang tepat untuk melengkapi?\n",
    "\n",
    "    - [ ] (clients.Location == \"Jakarta\") | (clients.Account == \"Enterprise\")\n",
    "    - [ ] clients.Location == \"Jakarta\" & clients.Account == \"Enterprise\"\n",
    "    - [ ] (clients.Location == \"Jakarta\") & (clients.Account == \"Enterprise\")\n",
    "    - [ ] clients.Location == \"Jakarta\" | clients.Account == \"Enterprise\"\n",
    "---"
   ]
  },
  {
   "cell_type": "code",
   "execution_count": 214,
   "metadata": {},
   "outputs": [
    {
     "data": {
      "text/html": [
       "<div>\n",
       "<style scoped>\n",
       "    .dataframe tbody tr th:only-of-type {\n",
       "        vertical-align: middle;\n",
       "    }\n",
       "\n",
       "    .dataframe tbody tr th {\n",
       "        vertical-align: top;\n",
       "    }\n",
       "\n",
       "    .dataframe thead th {\n",
       "        text-align: right;\n",
       "    }\n",
       "</style>\n",
       "<table border=\"1\" class=\"dataframe\">\n",
       "  <thead>\n",
       "    <tr style=\"text-align: right;\">\n",
       "      <th></th>\n",
       "      <th>Customer Name</th>\n",
       "      <th>Consulting Sales</th>\n",
       "      <th>Software Sales</th>\n",
       "      <th>Forecasted Growth</th>\n",
       "      <th>Returns</th>\n",
       "      <th>Month</th>\n",
       "      <th>Day</th>\n",
       "      <th>Year</th>\n",
       "      <th>Location</th>\n",
       "      <th>Account</th>\n",
       "      <th>Total Sales</th>\n",
       "    </tr>\n",
       "    <tr>\n",
       "      <th>ID</th>\n",
       "      <th></th>\n",
       "      <th></th>\n",
       "      <th></th>\n",
       "      <th></th>\n",
       "      <th></th>\n",
       "      <th></th>\n",
       "      <th></th>\n",
       "      <th></th>\n",
       "      <th></th>\n",
       "      <th></th>\n",
       "      <th></th>\n",
       "    </tr>\n",
       "  </thead>\n",
       "  <tbody>\n",
       "    <tr>\n",
       "      <th>30940</th>\n",
       "      <td>New Media Group</td>\n",
       "      <td>7125000.0</td>\n",
       "      <td>5500000.0</td>\n",
       "      <td>30.00%</td>\n",
       "      <td>1 500 000</td>\n",
       "      <td>1</td>\n",
       "      <td>10</td>\n",
       "      <td>2017</td>\n",
       "      <td>Jakarta</td>\n",
       "      <td>Enterprise</td>\n",
       "      <td>12625000.0</td>\n",
       "    </tr>\n",
       "    <tr>\n",
       "      <th>31142</th>\n",
       "      <td>PT. Surya Citra Manajemen</td>\n",
       "      <td>960000.0</td>\n",
       "      <td>503000.0</td>\n",
       "      <td>19.00%</td>\n",
       "      <td>0</td>\n",
       "      <td>1</td>\n",
       "      <td>19</td>\n",
       "      <td>2019</td>\n",
       "      <td>Jakarta</td>\n",
       "      <td>Enterprise</td>\n",
       "      <td>1463000.0</td>\n",
       "    </tr>\n",
       "  </tbody>\n",
       "</table>\n",
       "</div>"
      ],
      "text/plain": [
       "                   Customer Name  Consulting Sales  Software Sales  \\\n",
       "ID                                                                   \n",
       "30940            New Media Group         7125000.0       5500000.0   \n",
       "31142  PT. Surya Citra Manajemen          960000.0        503000.0   \n",
       "\n",
       "      Forecasted Growth    Returns Month Day  Year Location     Account  \\\n",
       "ID                                                                        \n",
       "30940            30.00%  1 500 000     1  10  2017  Jakarta  Enterprise   \n",
       "31142            19.00%          0     1  19  2019  Jakarta  Enterprise   \n",
       "\n",
       "       Total Sales  \n",
       "ID                  \n",
       "30940   12625000.0  \n",
       "31142    1463000.0  "
      ]
     },
     "execution_count": 214,
     "metadata": {},
     "output_type": "execute_result"
    }
   ],
   "source": [
    "## Your Code Below:\n",
    "clients[(clients.Location == \"Jakarta\") & (clients.Account == \"Enterprise\")]"
   ]
  }
 ],
 "metadata": {
  "kernelspec": {
   "display_name": "vulcan_da",
   "language": "python",
   "name": "nama_environment"
  },
  "language_info": {
   "codemirror_mode": {
    "name": "ipython",
    "version": 3
   },
   "file_extension": ".py",
   "mimetype": "text/x-python",
   "name": "python",
   "nbconvert_exporter": "python",
   "pygments_lexer": "ipython3",
   "version": "3.10.9"
  },
  "latex_envs": {
   "LaTeX_envs_menu_present": true,
   "autoclose": false,
   "autocomplete": true,
   "bibliofile": "biblio.bib",
   "cite_by": "apalike",
   "current_citInitial": 1,
   "eqLabelWithNumbers": true,
   "eqNumInitial": 1,
   "hotkeys": {
    "equation": "Ctrl-E",
    "itemize": "Ctrl-I"
   },
   "labels_anchors": false,
   "latex_user_defs": false,
   "report_style_numbering": false,
   "user_envs_cfg": false
  },
  "toc": {
   "base_numbering": 1,
   "nav_menu": {},
   "number_sections": true,
   "sideBar": true,
   "skip_h1_title": false,
   "title_cell": "Table of Contents",
   "title_sidebar": "Contents",
   "toc_cell": false,
   "toc_position": {},
   "toc_section_display": true,
   "toc_window_display": false
  }
 },
 "nbformat": 4,
 "nbformat_minor": 2
}
